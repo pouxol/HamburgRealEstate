{
 "cells": [
  {
   "cell_type": "markdown",
   "metadata": {},
   "source": [
    "# Hamburg Appartement Market Data Analysis and Modelling\n",
    "\n",
    "<br>\n",
    "\n",
    "### What factors impact the price the most?\n",
    "\n",
    "<br>\n",
    "\n",
    "#### 1. Which neighborhood has the highest impact?\n",
    "#### 2. How do space and the number of rooms relate to the price?\n",
    "#### 3. How do private offers impact the price?\n",
    "#### 4. How do other factors impact the price?"
   ]
  },
  {
   "cell_type": "markdown",
   "metadata": {},
   "source": [
    "### Importing packages"
   ]
  },
  {
   "cell_type": "code",
   "execution_count": 1,
   "metadata": {},
   "outputs": [],
   "source": [
    "import pandas as pd\n",
    "import glob\n",
    "import matplotlib.pyplot as plt\n",
    "%matplotlib inline\n",
    "import seaborn as sns\n",
    "import numpy as np"
   ]
  },
  {
   "cell_type": "markdown",
   "metadata": {},
   "source": [
    "### Reading in the data"
   ]
  },
  {
   "cell_type": "code",
   "execution_count": 2,
   "metadata": {},
   "outputs": [],
   "source": [
    "#the data comes from different excel files I scraped over a few months.\n",
    "files = []\n",
    "frames = []\n",
    "\n",
    "for f in glob.glob(\".\\Data\\*.xlsx\"):\n",
    "    files.append(f)\n",
    "    frames.append(pd.read_excel(f, sheet_name=\"Sheet1\"))\n",
    "\n",
    "df = pd.concat(frames)"
   ]
  },
  {
   "cell_type": "code",
   "execution_count": 3,
   "metadata": {},
   "outputs": [
    {
     "data": {
      "text/plain": [
       "(70620, 21)"
      ]
     },
     "execution_count": 3,
     "metadata": {},
     "output_type": "execute_result"
    }
   ],
   "source": [
    "df.shape"
   ]
  },
  {
   "cell_type": "code",
   "execution_count": 4,
   "metadata": {},
   "outputs": [
    {
     "data": {
      "text/html": [
       "<div>\n",
       "<style scoped>\n",
       "    .dataframe tbody tr th:only-of-type {\n",
       "        vertical-align: middle;\n",
       "    }\n",
       "\n",
       "    .dataframe tbody tr th {\n",
       "        vertical-align: top;\n",
       "    }\n",
       "\n",
       "    .dataframe thead th {\n",
       "        text-align: right;\n",
       "    }\n",
       "</style>\n",
       "<table border=\"1\" class=\"dataframe\">\n",
       "  <thead>\n",
       "    <tr style=\"text-align: right;\">\n",
       "      <th></th>\n",
       "      <th>ID</th>\n",
       "      <th>Haus/Wohnung</th>\n",
       "      <th>ID.1</th>\n",
       "      <th>Miete/Kauf</th>\n",
       "      <th>address</th>\n",
       "      <th>balcony</th>\n",
       "      <th>builtInKitchen</th>\n",
       "      <th>city</th>\n",
       "      <th>floorplan</th>\n",
       "      <th>from</th>\n",
       "      <th>...</th>\n",
       "      <th>lat</th>\n",
       "      <th>livingSpace</th>\n",
       "      <th>lon</th>\n",
       "      <th>numberOfRooms</th>\n",
       "      <th>postcode</th>\n",
       "      <th>price</th>\n",
       "      <th>privateOffer</th>\n",
       "      <th>quarter</th>\n",
       "      <th>title</th>\n",
       "      <th>url</th>\n",
       "    </tr>\n",
       "  </thead>\n",
       "  <tbody>\n",
       "    <tr>\n",
       "      <th>0</th>\n",
       "      <td>107053440</td>\n",
       "      <td>Wohnung</td>\n",
       "      <td>107053440</td>\n",
       "      <td>Kauf</td>\n",
       "      <td>Julius-Vosseler-Strasse 82a, Lokstedt, Hamburg</td>\n",
       "      <td>True</td>\n",
       "      <td>False</td>\n",
       "      <td>Hamburg</td>\n",
       "      <td>False</td>\n",
       "      <td>001.507379</td>\n",
       "      <td>...</td>\n",
       "      <td>53.59171</td>\n",
       "      <td>43.67</td>\n",
       "      <td>9.94497</td>\n",
       "      <td>2.0</td>\n",
       "      <td>22527</td>\n",
       "      <td>272937.5</td>\n",
       "      <td>False</td>\n",
       "      <td>Lokstedt</td>\n",
       "      <td>Eigentumswohnungen in Hamburg-Lokstedt</td>\n",
       "      <td>https://www.immobilienscout24.de/expose/107053440</td>\n",
       "    </tr>\n",
       "    <tr>\n",
       "      <th>1</th>\n",
       "      <td>109298032</td>\n",
       "      <td>Wohnung</td>\n",
       "      <td>109298032</td>\n",
       "      <td>Kauf</td>\n",
       "      <td>Ohlsdorf, Hamburg</td>\n",
       "      <td>True</td>\n",
       "      <td>False</td>\n",
       "      <td>Hamburg</td>\n",
       "      <td>True</td>\n",
       "      <td>002.01004919249</td>\n",
       "      <td>...</td>\n",
       "      <td>NaN</td>\n",
       "      <td>117.00</td>\n",
       "      <td>NaN</td>\n",
       "      <td>4.0</td>\n",
       "      <td>22335</td>\n",
       "      <td>629800.0</td>\n",
       "      <td>False</td>\n",
       "      <td>Ohlsdorf</td>\n",
       "      <td>629.800 €, 117 m², 4 Zimmer</td>\n",
       "      <td>https://www.immobilienscout24.de/expose/109298032</td>\n",
       "    </tr>\n",
       "    <tr>\n",
       "      <th>2</th>\n",
       "      <td>108673845</td>\n",
       "      <td>Wohnung</td>\n",
       "      <td>108673845</td>\n",
       "      <td>Kauf</td>\n",
       "      <td>Alsterufer 10, Rotherbaum, Hamburg</td>\n",
       "      <td>False</td>\n",
       "      <td>False</td>\n",
       "      <td>Hamburg</td>\n",
       "      <td>False</td>\n",
       "      <td>001.5759162</td>\n",
       "      <td>...</td>\n",
       "      <td>53.56033</td>\n",
       "      <td>231.00</td>\n",
       "      <td>9.99611</td>\n",
       "      <td>5.0</td>\n",
       "      <td>20354</td>\n",
       "      <td>3520000.0</td>\n",
       "      <td>False</td>\n",
       "      <td>Rotherbaum</td>\n",
       "      <td>THE 10 - Luxury Flat mit Alsterblick für die F...</td>\n",
       "      <td>https://www.immobilienscout24.de/expose/108673845</td>\n",
       "    </tr>\n",
       "    <tr>\n",
       "      <th>3</th>\n",
       "      <td>108673576</td>\n",
       "      <td>Wohnung</td>\n",
       "      <td>108673576</td>\n",
       "      <td>Kauf</td>\n",
       "      <td>Barmbek-Nord, Hamburg</td>\n",
       "      <td>True</td>\n",
       "      <td>True</td>\n",
       "      <td>Hamburg</td>\n",
       "      <td>True</td>\n",
       "      <td>001.5759162</td>\n",
       "      <td>...</td>\n",
       "      <td>NaN</td>\n",
       "      <td>97.00</td>\n",
       "      <td>NaN</td>\n",
       "      <td>3.0</td>\n",
       "      <td>22305</td>\n",
       "      <td>549000.0</td>\n",
       "      <td>False</td>\n",
       "      <td>Barmbek-Nord</td>\n",
       "      <td>Moderne 3-Zimmer-Wohnung mit Weitblick</td>\n",
       "      <td>https://www.immobilienscout24.de/expose/108673576</td>\n",
       "    </tr>\n",
       "    <tr>\n",
       "      <th>4</th>\n",
       "      <td>107298572</td>\n",
       "      <td>Wohnung</td>\n",
       "      <td>107298572</td>\n",
       "      <td>Kauf</td>\n",
       "      <td>Grete-Zabe-Weg 13, Barmbek-Süd, Hamburg</td>\n",
       "      <td>True</td>\n",
       "      <td>False</td>\n",
       "      <td>Hamburg</td>\n",
       "      <td>True</td>\n",
       "      <td>001.177210</td>\n",
       "      <td>...</td>\n",
       "      <td>53.57751</td>\n",
       "      <td>64.43</td>\n",
       "      <td>10.05623</td>\n",
       "      <td>2.0</td>\n",
       "      <td>22081</td>\n",
       "      <td>398000.0</td>\n",
       "      <td>False</td>\n",
       "      <td>Barmbek-Süd</td>\n",
       "      <td>Citynah mit Blick ins Grüne: 2 Zimmer mit XL B...</td>\n",
       "      <td>https://www.immobilienscout24.de/expose/107298572</td>\n",
       "    </tr>\n",
       "  </tbody>\n",
       "</table>\n",
       "<p>5 rows × 21 columns</p>\n",
       "</div>"
      ],
      "text/plain": [
       "          ID Haus/Wohnung       ID.1 Miete/Kauf  \\\n",
       "0  107053440      Wohnung  107053440       Kauf   \n",
       "1  109298032      Wohnung  109298032       Kauf   \n",
       "2  108673845      Wohnung  108673845       Kauf   \n",
       "3  108673576      Wohnung  108673576       Kauf   \n",
       "4  107298572      Wohnung  107298572       Kauf   \n",
       "\n",
       "                                          address  balcony  builtInKitchen  \\\n",
       "0  Julius-Vosseler-Strasse 82a, Lokstedt, Hamburg     True           False   \n",
       "1                               Ohlsdorf, Hamburg     True           False   \n",
       "2              Alsterufer 10, Rotherbaum, Hamburg    False           False   \n",
       "3                           Barmbek-Nord, Hamburg     True            True   \n",
       "4         Grete-Zabe-Weg 13, Barmbek-Süd, Hamburg     True           False   \n",
       "\n",
       "      city  floorplan             from  ...       lat  livingSpace       lon  \\\n",
       "0  Hamburg      False       001.507379  ...  53.59171        43.67   9.94497   \n",
       "1  Hamburg       True  002.01004919249  ...       NaN       117.00       NaN   \n",
       "2  Hamburg      False      001.5759162  ...  53.56033       231.00   9.99611   \n",
       "3  Hamburg       True      001.5759162  ...       NaN        97.00       NaN   \n",
       "4  Hamburg       True       001.177210  ...  53.57751        64.43  10.05623   \n",
       "\n",
       "   numberOfRooms  postcode      price  privateOffer       quarter  \\\n",
       "0            2.0     22527   272937.5         False      Lokstedt   \n",
       "1            4.0     22335   629800.0         False      Ohlsdorf   \n",
       "2            5.0     20354  3520000.0         False    Rotherbaum   \n",
       "3            3.0     22305   549000.0         False  Barmbek-Nord   \n",
       "4            2.0     22081   398000.0         False   Barmbek-Süd   \n",
       "\n",
       "                                               title  \\\n",
       "0             Eigentumswohnungen in Hamburg-Lokstedt   \n",
       "1                        629.800 €, 117 m², 4 Zimmer   \n",
       "2  THE 10 - Luxury Flat mit Alsterblick für die F...   \n",
       "3             Moderne 3-Zimmer-Wohnung mit Weitblick   \n",
       "4  Citynah mit Blick ins Grüne: 2 Zimmer mit XL B...   \n",
       "\n",
       "                                                 url  \n",
       "0  https://www.immobilienscout24.de/expose/107053440  \n",
       "1  https://www.immobilienscout24.de/expose/109298032  \n",
       "2  https://www.immobilienscout24.de/expose/108673845  \n",
       "3  https://www.immobilienscout24.de/expose/108673576  \n",
       "4  https://www.immobilienscout24.de/expose/107298572  \n",
       "\n",
       "[5 rows x 21 columns]"
      ]
     },
     "execution_count": 4,
     "metadata": {},
     "output_type": "execute_result"
    }
   ],
   "source": [
    "df.head()"
   ]
  },
  {
   "cell_type": "markdown",
   "metadata": {},
   "source": [
    "### Preprocessing the data"
   ]
  },
  {
   "cell_type": "code",
   "execution_count": 5,
   "metadata": {},
   "outputs": [],
   "source": [
    "#I often sraped the data on censecutive days which results in duplicates\n",
    "#I use the \"ID\" to identify the duplicates and drop them\n",
    "dfu = df.drop_duplicates(subset=\"ID\")"
   ]
  },
  {
   "cell_type": "code",
   "execution_count": 6,
   "metadata": {
    "scrolled": true
   },
   "outputs": [
    {
     "data": {
      "text/plain": [
       "(8625, 21)"
      ]
     },
     "execution_count": 6,
     "metadata": {},
     "output_type": "execute_result"
    }
   ],
   "source": [
    "dfu.shape"
   ]
  },
  {
   "cell_type": "code",
   "execution_count": 7,
   "metadata": {},
   "outputs": [
    {
     "data": {
      "text/html": [
       "<div>\n",
       "<style scoped>\n",
       "    .dataframe tbody tr th:only-of-type {\n",
       "        vertical-align: middle;\n",
       "    }\n",
       "\n",
       "    .dataframe tbody tr th {\n",
       "        vertical-align: top;\n",
       "    }\n",
       "\n",
       "    .dataframe thead th {\n",
       "        text-align: right;\n",
       "    }\n",
       "</style>\n",
       "<table border=\"1\" class=\"dataframe\">\n",
       "  <thead>\n",
       "    <tr style=\"text-align: right;\">\n",
       "      <th></th>\n",
       "      <th>ID</th>\n",
       "      <th>address</th>\n",
       "      <th>balcony</th>\n",
       "      <th>builtInKitchen</th>\n",
       "      <th>city</th>\n",
       "      <th>floorplan</th>\n",
       "      <th>garden</th>\n",
       "      <th>lat</th>\n",
       "      <th>livingSpace</th>\n",
       "      <th>lon</th>\n",
       "      <th>numberOfRooms</th>\n",
       "      <th>postcode</th>\n",
       "      <th>price</th>\n",
       "      <th>privateOffer</th>\n",
       "      <th>quarter</th>\n",
       "    </tr>\n",
       "  </thead>\n",
       "  <tbody>\n",
       "    <tr>\n",
       "      <th>0</th>\n",
       "      <td>107053440</td>\n",
       "      <td>Julius-Vosseler-Strasse 82a, Lokstedt, Hamburg</td>\n",
       "      <td>True</td>\n",
       "      <td>False</td>\n",
       "      <td>Hamburg</td>\n",
       "      <td>False</td>\n",
       "      <td>False</td>\n",
       "      <td>53.59171</td>\n",
       "      <td>43.67</td>\n",
       "      <td>9.94497</td>\n",
       "      <td>2.0</td>\n",
       "      <td>22527</td>\n",
       "      <td>272937.5</td>\n",
       "      <td>False</td>\n",
       "      <td>Lokstedt</td>\n",
       "    </tr>\n",
       "    <tr>\n",
       "      <th>1</th>\n",
       "      <td>109298032</td>\n",
       "      <td>Ohlsdorf, Hamburg</td>\n",
       "      <td>True</td>\n",
       "      <td>False</td>\n",
       "      <td>Hamburg</td>\n",
       "      <td>True</td>\n",
       "      <td>True</td>\n",
       "      <td>NaN</td>\n",
       "      <td>117.00</td>\n",
       "      <td>NaN</td>\n",
       "      <td>4.0</td>\n",
       "      <td>22335</td>\n",
       "      <td>629800.0</td>\n",
       "      <td>False</td>\n",
       "      <td>Ohlsdorf</td>\n",
       "    </tr>\n",
       "    <tr>\n",
       "      <th>2</th>\n",
       "      <td>108673845</td>\n",
       "      <td>Alsterufer 10, Rotherbaum, Hamburg</td>\n",
       "      <td>False</td>\n",
       "      <td>False</td>\n",
       "      <td>Hamburg</td>\n",
       "      <td>False</td>\n",
       "      <td>False</td>\n",
       "      <td>53.56033</td>\n",
       "      <td>231.00</td>\n",
       "      <td>9.99611</td>\n",
       "      <td>5.0</td>\n",
       "      <td>20354</td>\n",
       "      <td>3520000.0</td>\n",
       "      <td>False</td>\n",
       "      <td>Rotherbaum</td>\n",
       "    </tr>\n",
       "    <tr>\n",
       "      <th>3</th>\n",
       "      <td>108673576</td>\n",
       "      <td>Barmbek-Nord, Hamburg</td>\n",
       "      <td>True</td>\n",
       "      <td>True</td>\n",
       "      <td>Hamburg</td>\n",
       "      <td>True</td>\n",
       "      <td>False</td>\n",
       "      <td>NaN</td>\n",
       "      <td>97.00</td>\n",
       "      <td>NaN</td>\n",
       "      <td>3.0</td>\n",
       "      <td>22305</td>\n",
       "      <td>549000.0</td>\n",
       "      <td>False</td>\n",
       "      <td>Barmbek-Nord</td>\n",
       "    </tr>\n",
       "    <tr>\n",
       "      <th>4</th>\n",
       "      <td>107298572</td>\n",
       "      <td>Grete-Zabe-Weg 13, Barmbek-Süd, Hamburg</td>\n",
       "      <td>True</td>\n",
       "      <td>False</td>\n",
       "      <td>Hamburg</td>\n",
       "      <td>True</td>\n",
       "      <td>False</td>\n",
       "      <td>53.57751</td>\n",
       "      <td>64.43</td>\n",
       "      <td>10.05623</td>\n",
       "      <td>2.0</td>\n",
       "      <td>22081</td>\n",
       "      <td>398000.0</td>\n",
       "      <td>False</td>\n",
       "      <td>Barmbek-Süd</td>\n",
       "    </tr>\n",
       "  </tbody>\n",
       "</table>\n",
       "</div>"
      ],
      "text/plain": [
       "          ID                                         address  balcony  \\\n",
       "0  107053440  Julius-Vosseler-Strasse 82a, Lokstedt, Hamburg     True   \n",
       "1  109298032                               Ohlsdorf, Hamburg     True   \n",
       "2  108673845              Alsterufer 10, Rotherbaum, Hamburg    False   \n",
       "3  108673576                           Barmbek-Nord, Hamburg     True   \n",
       "4  107298572         Grete-Zabe-Weg 13, Barmbek-Süd, Hamburg     True   \n",
       "\n",
       "   builtInKitchen     city  floorplan  garden       lat  livingSpace  \\\n",
       "0           False  Hamburg      False   False  53.59171        43.67   \n",
       "1           False  Hamburg       True    True       NaN       117.00   \n",
       "2           False  Hamburg      False   False  53.56033       231.00   \n",
       "3            True  Hamburg       True   False       NaN        97.00   \n",
       "4           False  Hamburg       True   False  53.57751        64.43   \n",
       "\n",
       "        lon  numberOfRooms  postcode      price  privateOffer       quarter  \n",
       "0   9.94497            2.0     22527   272937.5         False      Lokstedt  \n",
       "1       NaN            4.0     22335   629800.0         False      Ohlsdorf  \n",
       "2   9.99611            5.0     20354  3520000.0         False    Rotherbaum  \n",
       "3       NaN            3.0     22305   549000.0         False  Barmbek-Nord  \n",
       "4  10.05623            2.0     22081   398000.0         False   Barmbek-Süd  "
      ]
     },
     "execution_count": 7,
     "metadata": {},
     "output_type": "execute_result"
    }
   ],
   "source": [
    "#dropping columns I wont need.\n",
    "dfu = dfu.drop(columns=[\"ID.1\", \"from\", \"title\", \"url\", \"Haus/Wohnung\", \"Miete/Kauf\"])\n",
    "dfu.head()"
   ]
  },
  {
   "cell_type": "code",
   "execution_count": 8,
   "metadata": {},
   "outputs": [],
   "source": [
    "dfu = dfu.set_index(\"ID\")"
   ]
  },
  {
   "cell_type": "code",
   "execution_count": 9,
   "metadata": {},
   "outputs": [
    {
     "data": {
      "text/plain": [
       "lon               6243\n",
       "lat               6243\n",
       "quarter              0\n",
       "privateOffer         0\n",
       "price                0\n",
       "postcode             0\n",
       "numberOfRooms        0\n",
       "livingSpace          0\n",
       "garden               0\n",
       "floorplan            0\n",
       "city                 0\n",
       "builtInKitchen       0\n",
       "balcony              0\n",
       "address              0\n",
       "dtype: int64"
      ]
     },
     "execution_count": 9,
     "metadata": {},
     "output_type": "execute_result"
    }
   ],
   "source": [
    "#looking for missing data\n",
    "dfu.isnull().sum().sort_values(ascending=False)"
   ]
  },
  {
   "cell_type": "code",
   "execution_count": 10,
   "metadata": {},
   "outputs": [],
   "source": [
    "#I will drop lon and lat because there are too many missing values\n",
    "dfu = dfu.drop(columns=[\"lon\", \"lat\"])"
   ]
  },
  {
   "cell_type": "code",
   "execution_count": 11,
   "metadata": {},
   "outputs": [],
   "source": [
    "#since price is the value I want to predict I need to look for extreme values\n",
    "dfu[dfu[\"price\"] <= 10000]\n",
    "#I should filter flats with a price of 0.\n",
    "dfu = dfu[dfu[\"price\"] != 0]"
   ]
  },
  {
   "cell_type": "code",
   "execution_count": 12,
   "metadata": {},
   "outputs": [
    {
     "data": {
      "text/plain": [
       "ID\n",
       "107053440     272937.5\n",
       "109298032     629800.0\n",
       "108673845    3520000.0\n",
       "108673576     549000.0\n",
       "107298572     398000.0\n",
       "               ...    \n",
       "119053405     160000.0\n",
       "118874098     179000.0\n",
       "118939141     159000.0\n",
       "118955621     279000.0\n",
       "118919312     279000.0\n",
       "Name: price, Length: 8618, dtype: float64"
      ]
     },
     "execution_count": 12,
     "metadata": {},
     "output_type": "execute_result"
    }
   ],
   "source": [
    "dfu.price"
   ]
  },
  {
   "cell_type": "code",
   "execution_count": 13,
   "metadata": {},
   "outputs": [],
   "source": [
    "#For the modelling I need all bool field to be int.\n",
    "boolcol = ['balcony', 'builtInKitchen', 'floorplan', 'garden', 'privateOffer']\n",
    "\n",
    "for col in boolcol:\n",
    "    dfu[col] = dfu[col].astype(int)"
   ]
  },
  {
   "cell_type": "markdown",
   "metadata": {},
   "source": [
    "### Exploratory Analysis"
   ]
  },
  {
   "cell_type": "code",
   "execution_count": 14,
   "metadata": {},
   "outputs": [],
   "source": [
    "#creating a function that plots the value counts per column\n",
    "\n",
    "def plotchart(column):\n",
    "    plt.figure(figsize=(10,5))\n",
    "    ch = sns.countplot(dfu[column])\n",
    "    ch.set_xticklabels(ch.get_xticklabels(), rotation=45, horizontalalignment='right')"
   ]
  },
  {
   "cell_type": "code",
   "execution_count": 15,
   "metadata": {},
   "outputs": [
    {
     "data": {
      "text/plain": [
       "Index(['address', 'balcony', 'builtInKitchen', 'city', 'floorplan', 'garden',\n",
       "       'livingSpace', 'numberOfRooms', 'postcode', 'price', 'privateOffer',\n",
       "       'quarter'],\n",
       "      dtype='object')"
      ]
     },
     "execution_count": 15,
     "metadata": {},
     "output_type": "execute_result"
    }
   ],
   "source": [
    "#creating a list of the columns\n",
    "\n",
    "columns = dfu.columns\n",
    "columns"
   ]
  },
  {
   "cell_type": "code",
   "execution_count": 16,
   "metadata": {},
   "outputs": [
    {
     "data": {
      "image/png": "[encoded data removed]",
      "text/plain": [
       "<Figure size 720x360 with 1 Axes>"
      ]
     },
     "metadata": {
      "needs_background": "light"
     },
     "output_type": "display_data"
    }
   ],
   "source": [
    "plotchart(\"balcony\")"
   ]
  },
  {
   "cell_type": "code",
   "execution_count": 17,
   "metadata": {},
   "outputs": [
    {
     "data": {
      "image/png": "[encoded data removed]",
      "text/plain": [
       "<Figure size 720x360 with 1 Axes>"
      ]
     },
     "metadata": {
      "needs_background": "light"
     },
     "output_type": "display_data"
    }
   ],
   "source": [
    "plotchart(\"builtInKitchen\")"
   ]
  },
  {
   "cell_type": "code",
   "execution_count": 18,
   "metadata": {},
   "outputs": [
    {
     "data": {
      "image/png": "[encoded data removed]",
      "text/plain": [
       "<Figure size 720x360 with 1 Axes>"
      ]
     },
     "metadata": {
      "needs_background": "light"
     },
     "output_type": "display_data"
    }
   ],
   "source": [
    "plotchart(\"city\")"
   ]
  },
  {
   "cell_type": "code",
   "execution_count": 19,
   "metadata": {},
   "outputs": [
    {
     "data": {
      "image/png": "[encoded data removed]",
      "text/plain": [
       "<Figure size 720x360 with 1 Axes>"
      ]
     },
     "metadata": {
      "needs_background": "light"
     },
     "output_type": "display_data"
    }
   ],
   "source": [
    "plotchart(\"floorplan\")"
   ]
  },
  {
   "cell_type": "code",
   "execution_count": 20,
   "metadata": {},
   "outputs": [
    {
     "data": {
      "image/png": "[encoded data removed]",
      "text/plain": [
       "<Figure size 720x360 with 1 Axes>"
      ]
     },
     "metadata": {
      "needs_background": "light"
     },
     "output_type": "display_data"
    }
   ],
   "source": [
    "plotchart(\"garden\")"
   ]
  },
  {
   "cell_type": "code",
   "execution_count": 21,
   "metadata": {},
   "outputs": [
    {
     "data": {
      "image/png": "[encoded data removed]",
      "text/plain": [
       "<Figure size 720x360 with 1 Axes>"
      ]
     },
     "metadata": {
      "needs_background": "light"
     },
     "output_type": "display_data"
    }
   ],
   "source": [
    "plotchart(\"numberOfRooms\")"
   ]
  },
  {
   "cell_type": "code",
   "execution_count": 22,
   "metadata": {},
   "outputs": [
    {
     "data": {
      "image/png": "[encoded data removed]",
      "text/plain": [
       "<Figure size 720x360 with 1 Axes>"
      ]
     },
     "metadata": {
      "needs_background": "light"
     },
     "output_type": "display_data"
    }
   ],
   "source": [
    "plotchart(\"privateOffer\")"
   ]
  },
  {
   "cell_type": "code",
   "execution_count": 23,
   "metadata": {},
   "outputs": [
    {
     "data": {
      "text/plain": [
       "(array([7.972e+03, 4.630e+02, 1.170e+02, 4.100e+01, 1.500e+01, 5.000e+00,\n",
       "        2.000e+00, 1.000e+00, 0.000e+00, 2.000e+00]),\n",
       " array([7.0000e+03, 1.0163e+06, 2.0256e+06, 3.0349e+06, 4.0442e+06,\n",
       "        5.0535e+06, 6.0628e+06, 7.0721e+06, 8.0814e+06, 9.0907e+06,\n",
       "        1.0100e+07]),\n",
       " <a list of 10 Patch objects>)"
      ]
     },
     "execution_count": 23,
     "metadata": {},
     "output_type": "execute_result"
    },
    {
     "data": {
      "image/png": "[encoded data removed]",
      "text/plain": [
       "<Figure size 432x288 with 1 Axes>"
      ]
     },
     "metadata": {
      "needs_background": "light"
     },
     "output_type": "display_data"
    }
   ],
   "source": [
    "plt.hist(dfu[\"price\"])"
   ]
  },
  {
   "cell_type": "code",
   "execution_count": 24,
   "metadata": {},
   "outputs": [
    {
     "data": {
      "text/plain": [
       "(array([8.351e+03, 2.540e+02, 1.100e+01, 1.000e+00, 0.000e+00, 0.000e+00,\n",
       "        0.000e+00, 0.000e+00, 0.000e+00, 1.000e+00]),\n",
       " array([   0.,  200.,  400.,  600.,  800., 1000., 1200., 1400., 1600.,\n",
       "        1800., 2000.]),\n",
       " <a list of 10 Patch objects>)"
      ]
     },
     "execution_count": 24,
     "metadata": {},
     "output_type": "execute_result"
    },
    {
     "data": {
      "image/png": "[encoded data removed]",
      "text/plain": [
       "<Figure size 432x288 with 1 Axes>"
      ]
     },
     "metadata": {
      "needs_background": "light"
     },
     "output_type": "display_data"
    }
   ],
   "source": [
    "plt.hist(dfu[\"livingSpace\"])"
   ]
  },
  {
   "cell_type": "code",
   "execution_count": 25,
   "metadata": {},
   "outputs": [],
   "source": [
    "#creating a function that plots the sorted value counts per column for the top n elements\n",
    "\n",
    "def plotcharttopn(column, n):\n",
    "    \n",
    "    plt.figure(figsize=(10,5))\n",
    "    ch = sns.countplot(dfu[column], order=dfu[column].value_counts().iloc[:n].index)\n",
    "    ch.set_xticklabels(ch.get_xticklabels(), rotation=45, horizontalalignment='right')"
   ]
  },
  {
   "cell_type": "code",
   "execution_count": 26,
   "metadata": {},
   "outputs": [
    {
     "data": {
      "image/png": "[encoded data removed]",
      "text/plain": [
       "<Figure size 720x360 with 1 Axes>"
      ]
     },
     "metadata": {
      "needs_background": "light"
     },
     "output_type": "display_data"
    }
   ],
   "source": [
    "plotcharttopn(\"quarter\", 20)"
   ]
  },
  {
   "cell_type": "code",
   "execution_count": 27,
   "metadata": {},
   "outputs": [
    {
     "data": {
      "image/png": "[encoded data removed]",
      "text/plain": [
       "<Figure size 720x360 with 1 Axes>"
      ]
     },
     "metadata": {
      "needs_background": "light"
     },
     "output_type": "display_data"
    }
   ],
   "source": [
    "plotcharttopn(\"postcode\", 20)"
   ]
  },
  {
   "cell_type": "code",
   "execution_count": 28,
   "metadata": {},
   "outputs": [
    {
     "data": {
      "image/png": "[encoded data removed]",
      "text/plain": [
       "<Figure size 432x288 with 2 Axes>"
      ]
     },
     "metadata": {
      "needs_background": "light"
     },
     "output_type": "display_data"
    }
   ],
   "source": [
    "#checking numerical columns for correlation\n",
    "sns.heatmap(dfu[[\"price\", \"livingSpace\", \"numberOfRooms\"]].corr(), annot=True, fmt=\".2f\");"
   ]
  },
  {
   "cell_type": "markdown",
   "metadata": {},
   "source": [
    "### Preparing data for medelling"
   ]
  },
  {
   "cell_type": "code",
   "execution_count": 29,
   "metadata": {},
   "outputs": [],
   "source": [
    "#the postcode needs to be a string for one hot encoding\n",
    "dfu[\"postcode\"] = dfu[\"postcode\"].astype(object)"
   ]
  },
  {
   "cell_type": "code",
   "execution_count": 30,
   "metadata": {},
   "outputs": [
    {
     "data": {
      "text/html": [
       "<div>\n",
       "<style scoped>\n",
       "    .dataframe tbody tr th:only-of-type {\n",
       "        vertical-align: middle;\n",
       "    }\n",
       "\n",
       "    .dataframe tbody tr th {\n",
       "        vertical-align: top;\n",
       "    }\n",
       "\n",
       "    .dataframe thead th {\n",
       "        text-align: right;\n",
       "    }\n",
       "</style>\n",
       "<table border=\"1\" class=\"dataframe\">\n",
       "  <thead>\n",
       "    <tr style=\"text-align: right;\">\n",
       "      <th></th>\n",
       "      <th>postcode_19258</th>\n",
       "      <th>postcode_20087</th>\n",
       "      <th>postcode_20095</th>\n",
       "      <th>postcode_20097</th>\n",
       "      <th>postcode_20099</th>\n",
       "      <th>postcode_20144</th>\n",
       "      <th>postcode_20146</th>\n",
       "      <th>postcode_20148</th>\n",
       "      <th>postcode_20149</th>\n",
       "      <th>postcode_20249</th>\n",
       "      <th>...</th>\n",
       "      <th>city_Herzogtum Lauenburg (Kreis)</th>\n",
       "      <th>city_Imara</th>\n",
       "      <th>city_Ludwigslust (Kreis)</th>\n",
       "      <th>city_Lüneburg (Kreis)</th>\n",
       "      <th>city_Pinneberg (Kreis)</th>\n",
       "      <th>city_Rotenburg (Wümme) (Kreis)</th>\n",
       "      <th>city_Segeberg (Kreis)</th>\n",
       "      <th>city_Stade (Kreis)</th>\n",
       "      <th>city_Steinburg (Kreis)</th>\n",
       "      <th>city_Stormarn (Kreis)</th>\n",
       "    </tr>\n",
       "    <tr>\n",
       "      <th>ID</th>\n",
       "      <th></th>\n",
       "      <th></th>\n",
       "      <th></th>\n",
       "      <th></th>\n",
       "      <th></th>\n",
       "      <th></th>\n",
       "      <th></th>\n",
       "      <th></th>\n",
       "      <th></th>\n",
       "      <th></th>\n",
       "      <th></th>\n",
       "      <th></th>\n",
       "      <th></th>\n",
       "      <th></th>\n",
       "      <th></th>\n",
       "      <th></th>\n",
       "      <th></th>\n",
       "      <th></th>\n",
       "      <th></th>\n",
       "      <th></th>\n",
       "      <th></th>\n",
       "    </tr>\n",
       "  </thead>\n",
       "  <tbody>\n",
       "    <tr>\n",
       "      <th>107053440</th>\n",
       "      <td>0</td>\n",
       "      <td>0</td>\n",
       "      <td>0</td>\n",
       "      <td>0</td>\n",
       "      <td>0</td>\n",
       "      <td>0</td>\n",
       "      <td>0</td>\n",
       "      <td>0</td>\n",
       "      <td>0</td>\n",
       "      <td>0</td>\n",
       "      <td>...</td>\n",
       "      <td>0</td>\n",
       "      <td>0</td>\n",
       "      <td>0</td>\n",
       "      <td>0</td>\n",
       "      <td>0</td>\n",
       "      <td>0</td>\n",
       "      <td>0</td>\n",
       "      <td>0</td>\n",
       "      <td>0</td>\n",
       "      <td>0</td>\n",
       "    </tr>\n",
       "    <tr>\n",
       "      <th>109298032</th>\n",
       "      <td>0</td>\n",
       "      <td>0</td>\n",
       "      <td>0</td>\n",
       "      <td>0</td>\n",
       "      <td>0</td>\n",
       "      <td>0</td>\n",
       "      <td>0</td>\n",
       "      <td>0</td>\n",
       "      <td>0</td>\n",
       "      <td>0</td>\n",
       "      <td>...</td>\n",
       "      <td>0</td>\n",
       "      <td>0</td>\n",
       "      <td>0</td>\n",
       "      <td>0</td>\n",
       "      <td>0</td>\n",
       "      <td>0</td>\n",
       "      <td>0</td>\n",
       "      <td>0</td>\n",
       "      <td>0</td>\n",
       "      <td>0</td>\n",
       "    </tr>\n",
       "    <tr>\n",
       "      <th>108673845</th>\n",
       "      <td>0</td>\n",
       "      <td>0</td>\n",
       "      <td>0</td>\n",
       "      <td>0</td>\n",
       "      <td>0</td>\n",
       "      <td>0</td>\n",
       "      <td>0</td>\n",
       "      <td>0</td>\n",
       "      <td>0</td>\n",
       "      <td>0</td>\n",
       "      <td>...</td>\n",
       "      <td>0</td>\n",
       "      <td>0</td>\n",
       "      <td>0</td>\n",
       "      <td>0</td>\n",
       "      <td>0</td>\n",
       "      <td>0</td>\n",
       "      <td>0</td>\n",
       "      <td>0</td>\n",
       "      <td>0</td>\n",
       "      <td>0</td>\n",
       "    </tr>\n",
       "    <tr>\n",
       "      <th>108673576</th>\n",
       "      <td>0</td>\n",
       "      <td>0</td>\n",
       "      <td>0</td>\n",
       "      <td>0</td>\n",
       "      <td>0</td>\n",
       "      <td>0</td>\n",
       "      <td>0</td>\n",
       "      <td>0</td>\n",
       "      <td>0</td>\n",
       "      <td>0</td>\n",
       "      <td>...</td>\n",
       "      <td>0</td>\n",
       "      <td>0</td>\n",
       "      <td>0</td>\n",
       "      <td>0</td>\n",
       "      <td>0</td>\n",
       "      <td>0</td>\n",
       "      <td>0</td>\n",
       "      <td>0</td>\n",
       "      <td>0</td>\n",
       "      <td>0</td>\n",
       "    </tr>\n",
       "    <tr>\n",
       "      <th>107298572</th>\n",
       "      <td>0</td>\n",
       "      <td>0</td>\n",
       "      <td>0</td>\n",
       "      <td>0</td>\n",
       "      <td>0</td>\n",
       "      <td>0</td>\n",
       "      <td>0</td>\n",
       "      <td>0</td>\n",
       "      <td>0</td>\n",
       "      <td>0</td>\n",
       "      <td>...</td>\n",
       "      <td>0</td>\n",
       "      <td>0</td>\n",
       "      <td>0</td>\n",
       "      <td>0</td>\n",
       "      <td>0</td>\n",
       "      <td>0</td>\n",
       "      <td>0</td>\n",
       "      <td>0</td>\n",
       "      <td>0</td>\n",
       "      <td>0</td>\n",
       "    </tr>\n",
       "  </tbody>\n",
       "</table>\n",
       "<p>5 rows × 482 columns</p>\n",
       "</div>"
      ],
      "text/plain": [
       "           postcode_19258  postcode_20087  postcode_20095  postcode_20097  \\\n",
       "ID                                                                          \n",
       "107053440               0               0               0               0   \n",
       "109298032               0               0               0               0   \n",
       "108673845               0               0               0               0   \n",
       "108673576               0               0               0               0   \n",
       "107298572               0               0               0               0   \n",
       "\n",
       "           postcode_20099  postcode_20144  postcode_20146  postcode_20148  \\\n",
       "ID                                                                          \n",
       "107053440               0               0               0               0   \n",
       "109298032               0               0               0               0   \n",
       "108673845               0               0               0               0   \n",
       "108673576               0               0               0               0   \n",
       "107298572               0               0               0               0   \n",
       "\n",
       "           postcode_20149  postcode_20249  ...  \\\n",
       "ID                                         ...   \n",
       "107053440               0               0  ...   \n",
       "109298032               0               0  ...   \n",
       "108673845               0               0  ...   \n",
       "108673576               0               0  ...   \n",
       "107298572               0               0  ...   \n",
       "\n",
       "           city_Herzogtum Lauenburg (Kreis)  city_Imara  \\\n",
       "ID                                                        \n",
       "107053440                                 0           0   \n",
       "109298032                                 0           0   \n",
       "108673845                                 0           0   \n",
       "108673576                                 0           0   \n",
       "107298572                                 0           0   \n",
       "\n",
       "           city_Ludwigslust (Kreis)  city_Lüneburg (Kreis)  \\\n",
       "ID                                                           \n",
       "107053440                         0                      0   \n",
       "109298032                         0                      0   \n",
       "108673845                         0                      0   \n",
       "108673576                         0                      0   \n",
       "107298572                         0                      0   \n",
       "\n",
       "           city_Pinneberg (Kreis)  city_Rotenburg (Wümme) (Kreis)  \\\n",
       "ID                                                                  \n",
       "107053440                       0                               0   \n",
       "109298032                       0                               0   \n",
       "108673845                       0                               0   \n",
       "108673576                       0                               0   \n",
       "107298572                       0                               0   \n",
       "\n",
       "           city_Segeberg (Kreis)  city_Stade (Kreis)  city_Steinburg (Kreis)  \\\n",
       "ID                                                                             \n",
       "107053440                      0                   0                       0   \n",
       "109298032                      0                   0                       0   \n",
       "108673845                      0                   0                       0   \n",
       "108673576                      0                   0                       0   \n",
       "107298572                      0                   0                       0   \n",
       "\n",
       "           city_Stormarn (Kreis)  \n",
       "ID                                \n",
       "107053440                      0  \n",
       "109298032                      0  \n",
       "108673845                      0  \n",
       "108673576                      0  \n",
       "107298572                      0  \n",
       "\n",
       "[5 rows x 482 columns]"
      ]
     },
     "execution_count": 30,
     "metadata": {},
     "output_type": "execute_result"
    }
   ],
   "source": [
    "cat_dfu = dfu[[\"postcode\", \"quarter\", \"city\"]]\n",
    "\n",
    "#One Hot Encoding the categorical columns\n",
    "cat_dfu_dummies = pd.get_dummies(cat_dfu)\n",
    "cat_dfu_dummies.head()"
   ]
  },
  {
   "cell_type": "code",
   "execution_count": 31,
   "metadata": {},
   "outputs": [],
   "source": [
    "num_dfu = dfu[[\"price\", \"livingSpace\", \"numberOfRooms\"]]"
   ]
  },
  {
   "cell_type": "code",
   "execution_count": 32,
   "metadata": {},
   "outputs": [],
   "source": [
    "bool_dfu = dfu[['balcony', 'builtInKitchen', 'floorplan', 'garden', 'privateOffer']]"
   ]
  },
  {
   "cell_type": "code",
   "execution_count": 33,
   "metadata": {},
   "outputs": [],
   "source": [
    "#Combining the one hot encoded categorical columns with the numerical and bool columns.\n",
    "dfu_mod = cat_dfu_dummies.join(num_dfu).join(bool_dfu)"
   ]
  },
  {
   "cell_type": "code",
   "execution_count": 34,
   "metadata": {},
   "outputs": [
    {
     "data": {
      "text/plain": [
       "(8618, 490)"
      ]
     },
     "execution_count": 34,
     "metadata": {},
     "output_type": "execute_result"
    }
   ],
   "source": [
    "dfu_mod.shape"
   ]
  },
  {
   "cell_type": "markdown",
   "metadata": {},
   "source": [
    "### Modelling"
   ]
  },
  {
   "cell_type": "code",
   "execution_count": 35,
   "metadata": {},
   "outputs": [
    {
     "data": {
      "text/plain": [
       "{'alpha': 1.0,\n",
       " 'copy_X': True,\n",
       " 'fit_intercept': True,\n",
       " 'max_iter': None,\n",
       " 'normalize': False,\n",
       " 'random_state': None,\n",
       " 'solver': 'auto',\n",
       " 'tol': 0.001}"
      ]
     },
     "execution_count": 35,
     "metadata": {},
     "output_type": "execute_result"
    }
   ],
   "source": [
    "from sklearn.model_selection import train_test_split\n",
    "from sklearn.linear_model import Ridge\n",
    "from sklearn.metrics import r2_score\n",
    "from sklearn.model_selection import GridSearchCV\n",
    "\n",
    "#Split into explanatory and response variables\n",
    "X = dfu_mod.drop(columns=['price'])\n",
    "y = dfu_mod['price']\n",
    "\n",
    "#Split into train and test\n",
    "X_train, X_test, y_train, y_test = train_test_split(X, y, test_size = .30, random_state=42)\n",
    "\n",
    "#Instantiate model\n",
    "ridge_model = Ridge()\n",
    "\n",
    "#Get Model Parameters\n",
    "ridge_model.get_params()"
   ]
  },
  {
   "cell_type": "code",
   "execution_count": 36,
   "metadata": {},
   "outputs": [
    {
     "data": {
      "text/plain": [
       "'The r-squared score for the model was 0.7824320730798443 on 2586 values.'"
      ]
     },
     "execution_count": 36,
     "metadata": {},
     "output_type": "execute_result"
    }
   ],
   "source": [
    "#Instantiate parameters for GridSearchCV\n",
    "parameters = {\n",
    "    'alpha': [0.5, 1.0, 2.0],\n",
    "    'solver': ['auto', 'svd'],\n",
    "    'tol': [0.0005, 0.001, 0.002]\n",
    "}\n",
    "\n",
    "#Instantiate model\n",
    "ridge_model = Ridge()\n",
    "\n",
    "#GridSearc\n",
    "cv = GridSearchCV(ridge_model, param_grid=parameters)\n",
    "\n",
    "#Fit\n",
    "cv.fit(X_train, y_train)\n",
    "\n",
    "#Predict and score the model\n",
    "y_test_preds_ridge = cv.predict(X_test)\n",
    "\"The r-squared score for the model was {} on {} values.\".format(r2_score(y_test, y_test_preds_ridge), len(y_test))"
   ]
  },
  {
   "cell_type": "code",
   "execution_count": 37,
   "metadata": {},
   "outputs": [
    {
     "data": {
      "text/plain": [
       "{'alpha': 1.0, 'solver': 'auto', 'tol': 0.0005}"
      ]
     },
     "execution_count": 37,
     "metadata": {},
     "output_type": "execute_result"
    }
   ],
   "source": [
    "cv.best_params_"
   ]
  },
  {
   "cell_type": "code",
   "execution_count": 38,
   "metadata": {},
   "outputs": [
    {
     "data": {
      "text/plain": [
       "'The r-squared score for the model was 0.7824320730798443 on 2586 values.'"
      ]
     },
     "execution_count": 38,
     "metadata": {},
     "output_type": "execute_result"
    }
   ],
   "source": [
    "#Instantiate final model\n",
    "model = Ridge(alpha=1.0,\n",
    " solver='auto',\n",
    " tol=0.0005)\n",
    "\n",
    "#Fit\n",
    "model.fit(X_train, y_train)\n",
    "\n",
    "#Predict and score the model\n",
    "y_test_preds_ridge = model.predict(X_test)\n",
    "\"The r-squared score for the model was {} on {} values.\".format(r2_score(y_test, y_test_preds_ridge), len(y_test))"
   ]
  },
  {
   "cell_type": "code",
   "execution_count": 39,
   "metadata": {},
   "outputs": [
    {
     "data": {
      "image/png": "[encoded data removed]",
      "text/plain": [
       "<Figure size 864x720 with 1 Axes>"
      ]
     },
     "metadata": {
      "needs_background": "light"
     },
     "output_type": "display_data"
    }
   ],
   "source": [
    "plt.figure(figsize=(12,10))\n",
    "plt.scatter(y_test, y_test_preds_ridge)\n",
    "plt.xlabel(\"Y test\")\n",
    "plt.ylabel(\"Y test preds\")\n",
    "plt.show()"
   ]
  },
  {
   "cell_type": "markdown",
   "metadata": {},
   "source": [
    "### Checking the coefficients of the model"
   ]
  },
  {
   "cell_type": "code",
   "execution_count": 40,
   "metadata": {},
   "outputs": [],
   "source": [
    "def coef_weights(coefficients, X_train):\n",
    "    '''\n",
    "    INPUT:\n",
    "    coefficients - the coefficients of the linear model \n",
    "    X_train - the training data, so the column names can be used\n",
    "    OUTPUT:\n",
    "    coefs_df - a dataframe holding the coefficient, estimate, and abs(estimate)\n",
    "    \n",
    "    Provides a dataframe that can be used to understand the most influential coefficients\n",
    "    in a linear model by providing the coefficient estimates along with the name of the \n",
    "    variable attached to the coefficient.\n",
    "    '''\n",
    "    coefs_df = pd.DataFrame()\n",
    "    coefs_df['input_variable'] = X_train.columns\n",
    "    coefs_df['coef'] = model.coef_\n",
    "    coefs_df['abs_coef'] = np.abs(model.coef_)\n",
    "    coefs_df = coefs_df.sort_values('abs_coef', ascending=False)\n",
    "    return coefs_df"
   ]
  },
  {
   "cell_type": "code",
   "execution_count": 41,
   "metadata": {},
   "outputs": [],
   "source": [
    "coef_df = coef_weights(model.coef_, X_train)"
   ]
  },
  {
   "cell_type": "markdown",
   "metadata": {},
   "source": [
    "### 1. Which neighborhood has the highest impact?"
   ]
  },
  {
   "cell_type": "code",
   "execution_count": 42,
   "metadata": {},
   "outputs": [
    {
     "data": {
      "text/html": [
       "<div>\n",
       "<style scoped>\n",
       "    .dataframe tbody tr th:only-of-type {\n",
       "        vertical-align: middle;\n",
       "    }\n",
       "\n",
       "    .dataframe tbody tr th {\n",
       "        vertical-align: top;\n",
       "    }\n",
       "\n",
       "    .dataframe thead th {\n",
       "        text-align: right;\n",
       "    }\n",
       "</style>\n",
       "<table border=\"1\" class=\"dataframe\">\n",
       "  <thead>\n",
       "    <tr style=\"text-align: right;\">\n",
       "      <th></th>\n",
       "      <th>input_variable</th>\n",
       "      <th>coef</th>\n",
       "      <th>abs_coef</th>\n",
       "    </tr>\n",
       "  </thead>\n",
       "  <tbody>\n",
       "    <tr>\n",
       "      <th>15</th>\n",
       "      <td>postcode_20354</td>\n",
       "      <td>960135.867895</td>\n",
       "      <td>960135.867895</td>\n",
       "    </tr>\n",
       "    <tr>\n",
       "      <th>24</th>\n",
       "      <td>postcode_20547</td>\n",
       "      <td>734660.071131</td>\n",
       "      <td>734660.071131</td>\n",
       "    </tr>\n",
       "    <tr>\n",
       "      <th>8</th>\n",
       "      <td>postcode_20149</td>\n",
       "      <td>518844.015906</td>\n",
       "      <td>518844.015906</td>\n",
       "    </tr>\n",
       "    <tr>\n",
       "      <th>7</th>\n",
       "      <td>postcode_20148</td>\n",
       "      <td>508216.953800</td>\n",
       "      <td>508216.953800</td>\n",
       "    </tr>\n",
       "    <tr>\n",
       "      <th>117</th>\n",
       "      <td>postcode_22301</td>\n",
       "      <td>392310.162057</td>\n",
       "      <td>392310.162057</td>\n",
       "    </tr>\n",
       "    <tr>\n",
       "      <th>5</th>\n",
       "      <td>postcode_20144</td>\n",
       "      <td>-369250.875223</td>\n",
       "      <td>369250.875223</td>\n",
       "    </tr>\n",
       "    <tr>\n",
       "      <th>116</th>\n",
       "      <td>postcode_22299</td>\n",
       "      <td>344105.152601</td>\n",
       "      <td>344105.152601</td>\n",
       "    </tr>\n",
       "    <tr>\n",
       "      <th>9</th>\n",
       "      <td>postcode_20249</td>\n",
       "      <td>344036.232804</td>\n",
       "      <td>344036.232804</td>\n",
       "    </tr>\n",
       "    <tr>\n",
       "      <th>33</th>\n",
       "      <td>postcode_21075</td>\n",
       "      <td>-303429.709292</td>\n",
       "      <td>303429.709292</td>\n",
       "    </tr>\n",
       "    <tr>\n",
       "      <th>4</th>\n",
       "      <td>postcode_20099</td>\n",
       "      <td>289664.179041</td>\n",
       "      <td>289664.179041</td>\n",
       "    </tr>\n",
       "    <tr>\n",
       "      <th>30</th>\n",
       "      <td>postcode_21037</td>\n",
       "      <td>-265376.744423</td>\n",
       "      <td>265376.744423</td>\n",
       "    </tr>\n",
       "    <tr>\n",
       "      <th>150</th>\n",
       "      <td>postcode_22605</td>\n",
       "      <td>248051.052204</td>\n",
       "      <td>248051.052204</td>\n",
       "    </tr>\n",
       "    <tr>\n",
       "      <th>119</th>\n",
       "      <td>postcode_22305</td>\n",
       "      <td>-222365.101193</td>\n",
       "      <td>222365.101193</td>\n",
       "    </tr>\n",
       "    <tr>\n",
       "      <th>120</th>\n",
       "      <td>postcode_22307</td>\n",
       "      <td>-220358.975595</td>\n",
       "      <td>220358.975595</td>\n",
       "    </tr>\n",
       "    <tr>\n",
       "      <th>35</th>\n",
       "      <td>postcode_21079</td>\n",
       "      <td>-202807.445573</td>\n",
       "      <td>202807.445573</td>\n",
       "    </tr>\n",
       "  </tbody>\n",
       "</table>\n",
       "</div>"
      ],
      "text/plain": [
       "     input_variable           coef       abs_coef\n",
       "15   postcode_20354  960135.867895  960135.867895\n",
       "24   postcode_20547  734660.071131  734660.071131\n",
       "8    postcode_20149  518844.015906  518844.015906\n",
       "7    postcode_20148  508216.953800  508216.953800\n",
       "117  postcode_22301  392310.162057  392310.162057\n",
       "5    postcode_20144 -369250.875223  369250.875223\n",
       "116  postcode_22299  344105.152601  344105.152601\n",
       "9    postcode_20249  344036.232804  344036.232804\n",
       "33   postcode_21075 -303429.709292  303429.709292\n",
       "4    postcode_20099  289664.179041  289664.179041\n",
       "30   postcode_21037 -265376.744423  265376.744423\n",
       "150  postcode_22605  248051.052204  248051.052204\n",
       "119  postcode_22305 -222365.101193  222365.101193\n",
       "120  postcode_22307 -220358.975595  220358.975595\n",
       "35   postcode_21079 -202807.445573  202807.445573"
      ]
     },
     "execution_count": 42,
     "metadata": {},
     "output_type": "execute_result"
    }
   ],
   "source": [
    "coef_df[coef_df[\"input_variable\"].str.startswith(\"postcode\")].head(15)"
   ]
  },
  {
   "cell_type": "code",
   "execution_count": 43,
   "metadata": {},
   "outputs": [
    {
     "data": {
      "text/html": [
       "<div>\n",
       "<style scoped>\n",
       "    .dataframe tbody tr th:only-of-type {\n",
       "        vertical-align: middle;\n",
       "    }\n",
       "\n",
       "    .dataframe tbody tr th {\n",
       "        vertical-align: top;\n",
       "    }\n",
       "\n",
       "    .dataframe thead th {\n",
       "        text-align: right;\n",
       "    }\n",
       "</style>\n",
       "<table border=\"1\" class=\"dataframe\">\n",
       "  <thead>\n",
       "    <tr style=\"text-align: right;\">\n",
       "      <th></th>\n",
       "      <th>input_variable</th>\n",
       "      <th>coef</th>\n",
       "      <th>abs_coef</th>\n",
       "    </tr>\n",
       "  </thead>\n",
       "  <tbody>\n",
       "    <tr>\n",
       "      <th>312</th>\n",
       "      <td>quarter_HafenCity</td>\n",
       "      <td>760334.841146</td>\n",
       "      <td>760334.841146</td>\n",
       "    </tr>\n",
       "    <tr>\n",
       "      <th>326</th>\n",
       "      <td>quarter_Harvestehude</td>\n",
       "      <td>619668.882869</td>\n",
       "      <td>619668.882869</td>\n",
       "    </tr>\n",
       "    <tr>\n",
       "      <th>450</th>\n",
       "      <td>quarter_Uhlenhorst</td>\n",
       "      <td>541858.878035</td>\n",
       "      <td>541858.878035</td>\n",
       "    </tr>\n",
       "    <tr>\n",
       "      <th>330</th>\n",
       "      <td>quarter_Heimfeld</td>\n",
       "      <td>-440563.983210</td>\n",
       "      <td>440563.983210</td>\n",
       "    </tr>\n",
       "    <tr>\n",
       "      <th>380</th>\n",
       "      <td>quarter_Moorrege</td>\n",
       "      <td>-344568.688765</td>\n",
       "      <td>344568.688765</td>\n",
       "    </tr>\n",
       "    <tr>\n",
       "      <th>364</th>\n",
       "      <td>quarter_Langenbek</td>\n",
       "      <td>-263082.149974</td>\n",
       "      <td>263082.149974</td>\n",
       "    </tr>\n",
       "    <tr>\n",
       "      <th>335</th>\n",
       "      <td>quarter_Hoheluft-Ost</td>\n",
       "      <td>253468.021275</td>\n",
       "      <td>253468.021275</td>\n",
       "    </tr>\n",
       "    <tr>\n",
       "      <th>255</th>\n",
       "      <td>quarter_Barmbek-Nord</td>\n",
       "      <td>252848.216625</td>\n",
       "      <td>252848.216625</td>\n",
       "    </tr>\n",
       "    <tr>\n",
       "      <th>392</th>\n",
       "      <td>quarter_Nienstedten</td>\n",
       "      <td>239226.802933</td>\n",
       "      <td>239226.802933</td>\n",
       "    </tr>\n",
       "    <tr>\n",
       "      <th>424</th>\n",
       "      <td>quarter_Seeth-Ekholt</td>\n",
       "      <td>-232512.274076</td>\n",
       "      <td>232512.274076</td>\n",
       "    </tr>\n",
       "    <tr>\n",
       "      <th>415</th>\n",
       "      <td>quarter_Rotherbaum</td>\n",
       "      <td>221980.367012</td>\n",
       "      <td>221980.367012</td>\n",
       "    </tr>\n",
       "    <tr>\n",
       "      <th>345</th>\n",
       "      <td>quarter_Jersbek</td>\n",
       "      <td>-209296.201571</td>\n",
       "      <td>209296.201571</td>\n",
       "    </tr>\n",
       "    <tr>\n",
       "      <th>397</th>\n",
       "      <td>quarter_Ohlsdorf</td>\n",
       "      <td>-204744.254815</td>\n",
       "      <td>204744.254815</td>\n",
       "    </tr>\n",
       "    <tr>\n",
       "      <th>264</th>\n",
       "      <td>quarter_Blankenese</td>\n",
       "      <td>193912.514204</td>\n",
       "      <td>193912.514204</td>\n",
       "    </tr>\n",
       "    <tr>\n",
       "      <th>396</th>\n",
       "      <td>quarter_Oersdorf</td>\n",
       "      <td>-185091.667495</td>\n",
       "      <td>185091.667495</td>\n",
       "    </tr>\n",
       "  </tbody>\n",
       "</table>\n",
       "</div>"
      ],
      "text/plain": [
       "           input_variable           coef       abs_coef\n",
       "312     quarter_HafenCity  760334.841146  760334.841146\n",
       "326  quarter_Harvestehude  619668.882869  619668.882869\n",
       "450    quarter_Uhlenhorst  541858.878035  541858.878035\n",
       "330      quarter_Heimfeld -440563.983210  440563.983210\n",
       "380      quarter_Moorrege -344568.688765  344568.688765\n",
       "364     quarter_Langenbek -263082.149974  263082.149974\n",
       "335  quarter_Hoheluft-Ost  253468.021275  253468.021275\n",
       "255  quarter_Barmbek-Nord  252848.216625  252848.216625\n",
       "392   quarter_Nienstedten  239226.802933  239226.802933\n",
       "424  quarter_Seeth-Ekholt -232512.274076  232512.274076\n",
       "415    quarter_Rotherbaum  221980.367012  221980.367012\n",
       "345       quarter_Jersbek -209296.201571  209296.201571\n",
       "397      quarter_Ohlsdorf -204744.254815  204744.254815\n",
       "264    quarter_Blankenese  193912.514204  193912.514204\n",
       "396      quarter_Oersdorf -185091.667495  185091.667495"
      ]
     },
     "execution_count": 43,
     "metadata": {},
     "output_type": "execute_result"
    }
   ],
   "source": [
    "coef_df[coef_df[\"input_variable\"].str.startswith(\"quarter\")].head(15)"
   ]
  },
  {
   "cell_type": "code",
   "execution_count": 44,
   "metadata": {},
   "outputs": [
    {
     "data": {
      "text/html": [
       "<div>\n",
       "<style scoped>\n",
       "    .dataframe tbody tr th:only-of-type {\n",
       "        vertical-align: middle;\n",
       "    }\n",
       "\n",
       "    .dataframe tbody tr th {\n",
       "        vertical-align: top;\n",
       "    }\n",
       "\n",
       "    .dataframe thead th {\n",
       "        text-align: right;\n",
       "    }\n",
       "</style>\n",
       "<table border=\"1\" class=\"dataframe\">\n",
       "  <thead>\n",
       "    <tr style=\"text-align: right;\">\n",
       "      <th></th>\n",
       "      <th>input_variable</th>\n",
       "      <th>coef</th>\n",
       "      <th>abs_coef</th>\n",
       "    </tr>\n",
       "  </thead>\n",
       "  <tbody>\n",
       "    <tr>\n",
       "      <th>470</th>\n",
       "      <td>city_Hamburg</td>\n",
       "      <td>253269.663805</td>\n",
       "      <td>253269.663805</td>\n",
       "    </tr>\n",
       "    <tr>\n",
       "      <th>472</th>\n",
       "      <td>city_Herzogtum Lauenburg (Kreis)</td>\n",
       "      <td>-76778.904779</td>\n",
       "      <td>76778.904779</td>\n",
       "    </tr>\n",
       "    <tr>\n",
       "      <th>480</th>\n",
       "      <td>city_Steinburg (Kreis)</td>\n",
       "      <td>-52210.766504</td>\n",
       "      <td>52210.766504</td>\n",
       "    </tr>\n",
       "    <tr>\n",
       "      <th>478</th>\n",
       "      <td>city_Segeberg (Kreis)</td>\n",
       "      <td>-42443.807201</td>\n",
       "      <td>42443.807201</td>\n",
       "    </tr>\n",
       "    <tr>\n",
       "      <th>481</th>\n",
       "      <td>city_Stormarn (Kreis)</td>\n",
       "      <td>-35286.680322</td>\n",
       "      <td>35286.680322</td>\n",
       "    </tr>\n",
       "    <tr>\n",
       "      <th>475</th>\n",
       "      <td>city_Lüneburg (Kreis)</td>\n",
       "      <td>-27593.281398</td>\n",
       "      <td>27593.281398</td>\n",
       "    </tr>\n",
       "    <tr>\n",
       "      <th>476</th>\n",
       "      <td>city_Pinneberg (Kreis)</td>\n",
       "      <td>-18890.776257</td>\n",
       "      <td>18890.776257</td>\n",
       "    </tr>\n",
       "    <tr>\n",
       "      <th>479</th>\n",
       "      <td>city_Stade (Kreis)</td>\n",
       "      <td>-11135.455833</td>\n",
       "      <td>11135.455833</td>\n",
       "    </tr>\n",
       "    <tr>\n",
       "      <th>474</th>\n",
       "      <td>city_Ludwigslust (Kreis)</td>\n",
       "      <td>9845.848126</td>\n",
       "      <td>9845.848126</td>\n",
       "    </tr>\n",
       "    <tr>\n",
       "      <th>477</th>\n",
       "      <td>city_Rotenburg (Wümme) (Kreis)</td>\n",
       "      <td>3007.806087</td>\n",
       "      <td>3007.806087</td>\n",
       "    </tr>\n",
       "    <tr>\n",
       "      <th>471</th>\n",
       "      <td>city_Harburg (Kreis)</td>\n",
       "      <td>-1783.645725</td>\n",
       "      <td>1783.645725</td>\n",
       "    </tr>\n",
       "    <tr>\n",
       "      <th>473</th>\n",
       "      <td>city_Imara</td>\n",
       "      <td>0.000000</td>\n",
       "      <td>0.000000</td>\n",
       "    </tr>\n",
       "  </tbody>\n",
       "</table>\n",
       "</div>"
      ],
      "text/plain": [
       "                       input_variable           coef       abs_coef\n",
       "470                      city_Hamburg  253269.663805  253269.663805\n",
       "472  city_Herzogtum Lauenburg (Kreis)  -76778.904779   76778.904779\n",
       "480            city_Steinburg (Kreis)  -52210.766504   52210.766504\n",
       "478             city_Segeberg (Kreis)  -42443.807201   42443.807201\n",
       "481             city_Stormarn (Kreis)  -35286.680322   35286.680322\n",
       "475             city_Lüneburg (Kreis)  -27593.281398   27593.281398\n",
       "476            city_Pinneberg (Kreis)  -18890.776257   18890.776257\n",
       "479                city_Stade (Kreis)  -11135.455833   11135.455833\n",
       "474          city_Ludwigslust (Kreis)    9845.848126    9845.848126\n",
       "477    city_Rotenburg (Wümme) (Kreis)    3007.806087    3007.806087\n",
       "471              city_Harburg (Kreis)   -1783.645725    1783.645725\n",
       "473                        city_Imara       0.000000       0.000000"
      ]
     },
     "execution_count": 44,
     "metadata": {},
     "output_type": "execute_result"
    }
   ],
   "source": [
    "coef_df[coef_df[\"input_variable\"].str.startswith(\"city\")].head(15)"
   ]
  },
  {
   "cell_type": "markdown",
   "metadata": {},
   "source": [
    "### 2. How do space and the number of rooms relate to the price?"
   ]
  },
  {
   "cell_type": "code",
   "execution_count": 45,
   "metadata": {},
   "outputs": [
    {
     "data": {
      "text/html": [
       "<div>\n",
       "<style scoped>\n",
       "    .dataframe tbody tr th:only-of-type {\n",
       "        vertical-align: middle;\n",
       "    }\n",
       "\n",
       "    .dataframe tbody tr th {\n",
       "        vertical-align: top;\n",
       "    }\n",
       "\n",
       "    .dataframe thead th {\n",
       "        text-align: right;\n",
       "    }\n",
       "</style>\n",
       "<table border=\"1\" class=\"dataframe\">\n",
       "  <thead>\n",
       "    <tr style=\"text-align: right;\">\n",
       "      <th></th>\n",
       "      <th>input_variable</th>\n",
       "      <th>coef</th>\n",
       "      <th>abs_coef</th>\n",
       "    </tr>\n",
       "  </thead>\n",
       "  <tbody>\n",
       "    <tr>\n",
       "      <th>482</th>\n",
       "      <td>livingSpace</td>\n",
       "      <td>7560.726173</td>\n",
       "      <td>7560.726173</td>\n",
       "    </tr>\n",
       "  </tbody>\n",
       "</table>\n",
       "</div>"
      ],
      "text/plain": [
       "    input_variable         coef     abs_coef\n",
       "482    livingSpace  7560.726173  7560.726173"
      ]
     },
     "execution_count": 45,
     "metadata": {},
     "output_type": "execute_result"
    }
   ],
   "source": [
    "coef_df[coef_df[\"input_variable\"].str.startswith(\"livingSpace\")]"
   ]
  },
  {
   "cell_type": "code",
   "execution_count": 46,
   "metadata": {},
   "outputs": [
    {
     "data": {
      "text/html": [
       "<div>\n",
       "<style scoped>\n",
       "    .dataframe tbody tr th:only-of-type {\n",
       "        vertical-align: middle;\n",
       "    }\n",
       "\n",
       "    .dataframe tbody tr th {\n",
       "        vertical-align: top;\n",
       "    }\n",
       "\n",
       "    .dataframe thead th {\n",
       "        text-align: right;\n",
       "    }\n",
       "</style>\n",
       "<table border=\"1\" class=\"dataframe\">\n",
       "  <thead>\n",
       "    <tr style=\"text-align: right;\">\n",
       "      <th></th>\n",
       "      <th>input_variable</th>\n",
       "      <th>coef</th>\n",
       "      <th>abs_coef</th>\n",
       "    </tr>\n",
       "  </thead>\n",
       "  <tbody>\n",
       "    <tr>\n",
       "      <th>483</th>\n",
       "      <td>numberOfRooms</td>\n",
       "      <td>-29043.204408</td>\n",
       "      <td>29043.204408</td>\n",
       "    </tr>\n",
       "  </tbody>\n",
       "</table>\n",
       "</div>"
      ],
      "text/plain": [
       "    input_variable          coef      abs_coef\n",
       "483  numberOfRooms -29043.204408  29043.204408"
      ]
     },
     "execution_count": 46,
     "metadata": {},
     "output_type": "execute_result"
    }
   ],
   "source": [
    "coef_df[coef_df[\"input_variable\"].str.startswith(\"numberOfRooms\")]"
   ]
  },
  {
   "cell_type": "markdown",
   "metadata": {},
   "source": [
    "### 3. How do private offers impact the price?"
   ]
  },
  {
   "cell_type": "code",
   "execution_count": 47,
   "metadata": {},
   "outputs": [
    {
     "data": {
      "text/html": [
       "<div>\n",
       "<style scoped>\n",
       "    .dataframe tbody tr th:only-of-type {\n",
       "        vertical-align: middle;\n",
       "    }\n",
       "\n",
       "    .dataframe tbody tr th {\n",
       "        vertical-align: top;\n",
       "    }\n",
       "\n",
       "    .dataframe thead th {\n",
       "        text-align: right;\n",
       "    }\n",
       "</style>\n",
       "<table border=\"1\" class=\"dataframe\">\n",
       "  <thead>\n",
       "    <tr style=\"text-align: right;\">\n",
       "      <th></th>\n",
       "      <th>input_variable</th>\n",
       "      <th>coef</th>\n",
       "      <th>abs_coef</th>\n",
       "    </tr>\n",
       "  </thead>\n",
       "  <tbody>\n",
       "    <tr>\n",
       "      <th>488</th>\n",
       "      <td>privateOffer</td>\n",
       "      <td>-1986.386911</td>\n",
       "      <td>1986.386911</td>\n",
       "    </tr>\n",
       "  </tbody>\n",
       "</table>\n",
       "</div>"
      ],
      "text/plain": [
       "    input_variable         coef     abs_coef\n",
       "488   privateOffer -1986.386911  1986.386911"
      ]
     },
     "execution_count": 47,
     "metadata": {},
     "output_type": "execute_result"
    }
   ],
   "source": [
    "coef_df[coef_df[\"input_variable\"].str.startswith(\"privateOffer\")]"
   ]
  },
  {
   "cell_type": "markdown",
   "metadata": {},
   "source": [
    "### 4. How do other factors impact the price?"
   ]
  },
  {
   "cell_type": "code",
   "execution_count": 48,
   "metadata": {},
   "outputs": [
    {
     "data": {
      "text/html": [
       "<div>\n",
       "<style scoped>\n",
       "    .dataframe tbody tr th:only-of-type {\n",
       "        vertical-align: middle;\n",
       "    }\n",
       "\n",
       "    .dataframe tbody tr th {\n",
       "        vertical-align: top;\n",
       "    }\n",
       "\n",
       "    .dataframe thead th {\n",
       "        text-align: right;\n",
       "    }\n",
       "</style>\n",
       "<table border=\"1\" class=\"dataframe\">\n",
       "  <thead>\n",
       "    <tr style=\"text-align: right;\">\n",
       "      <th></th>\n",
       "      <th>input_variable</th>\n",
       "      <th>coef</th>\n",
       "      <th>abs_coef</th>\n",
       "    </tr>\n",
       "  </thead>\n",
       "  <tbody>\n",
       "    <tr>\n",
       "      <th>484</th>\n",
       "      <td>balcony</td>\n",
       "      <td>19315.222434</td>\n",
       "      <td>19315.222434</td>\n",
       "    </tr>\n",
       "  </tbody>\n",
       "</table>\n",
       "</div>"
      ],
      "text/plain": [
       "    input_variable          coef      abs_coef\n",
       "484        balcony  19315.222434  19315.222434"
      ]
     },
     "execution_count": 48,
     "metadata": {},
     "output_type": "execute_result"
    }
   ],
   "source": [
    "coef_df[coef_df[\"input_variable\"].str.startswith(\"balcony\")]"
   ]
  },
  {
   "cell_type": "code",
   "execution_count": 49,
   "metadata": {},
   "outputs": [
    {
     "data": {
      "text/html": [
       "<div>\n",
       "<style scoped>\n",
       "    .dataframe tbody tr th:only-of-type {\n",
       "        vertical-align: middle;\n",
       "    }\n",
       "\n",
       "    .dataframe tbody tr th {\n",
       "        vertical-align: top;\n",
       "    }\n",
       "\n",
       "    .dataframe thead th {\n",
       "        text-align: right;\n",
       "    }\n",
       "</style>\n",
       "<table border=\"1\" class=\"dataframe\">\n",
       "  <thead>\n",
       "    <tr style=\"text-align: right;\">\n",
       "      <th></th>\n",
       "      <th>input_variable</th>\n",
       "      <th>coef</th>\n",
       "      <th>abs_coef</th>\n",
       "    </tr>\n",
       "  </thead>\n",
       "  <tbody>\n",
       "    <tr>\n",
       "      <th>485</th>\n",
       "      <td>builtInKitchen</td>\n",
       "      <td>-21171.64429</td>\n",
       "      <td>21171.64429</td>\n",
       "    </tr>\n",
       "  </tbody>\n",
       "</table>\n",
       "</div>"
      ],
      "text/plain": [
       "     input_variable         coef     abs_coef\n",
       "485  builtInKitchen -21171.64429  21171.64429"
      ]
     },
     "execution_count": 49,
     "metadata": {},
     "output_type": "execute_result"
    }
   ],
   "source": [
    "coef_df[coef_df[\"input_variable\"].str.startswith(\"builtInKitchen\")]"
   ]
  },
  {
   "cell_type": "code",
   "execution_count": 50,
   "metadata": {},
   "outputs": [
    {
     "data": {
      "text/html": [
       "<div>\n",
       "<style scoped>\n",
       "    .dataframe tbody tr th:only-of-type {\n",
       "        vertical-align: middle;\n",
       "    }\n",
       "\n",
       "    .dataframe tbody tr th {\n",
       "        vertical-align: top;\n",
       "    }\n",
       "\n",
       "    .dataframe thead th {\n",
       "        text-align: right;\n",
       "    }\n",
       "</style>\n",
       "<table border=\"1\" class=\"dataframe\">\n",
       "  <thead>\n",
       "    <tr style=\"text-align: right;\">\n",
       "      <th></th>\n",
       "      <th>input_variable</th>\n",
       "      <th>coef</th>\n",
       "      <th>abs_coef</th>\n",
       "    </tr>\n",
       "  </thead>\n",
       "  <tbody>\n",
       "    <tr>\n",
       "      <th>486</th>\n",
       "      <td>floorplan</td>\n",
       "      <td>-8144.907764</td>\n",
       "      <td>8144.907764</td>\n",
       "    </tr>\n",
       "  </tbody>\n",
       "</table>\n",
       "</div>"
      ],
      "text/plain": [
       "    input_variable         coef     abs_coef\n",
       "486      floorplan -8144.907764  8144.907764"
      ]
     },
     "execution_count": 50,
     "metadata": {},
     "output_type": "execute_result"
    }
   ],
   "source": [
    "coef_df[coef_df[\"input_variable\"].str.startswith(\"floorplan\")]"
   ]
  },
  {
   "cell_type": "code",
   "execution_count": 51,
   "metadata": {},
   "outputs": [
    {
     "data": {
      "text/html": [
       "<div>\n",
       "<style scoped>\n",
       "    .dataframe tbody tr th:only-of-type {\n",
       "        vertical-align: middle;\n",
       "    }\n",
       "\n",
       "    .dataframe tbody tr th {\n",
       "        vertical-align: top;\n",
       "    }\n",
       "\n",
       "    .dataframe thead th {\n",
       "        text-align: right;\n",
       "    }\n",
       "</style>\n",
       "<table border=\"1\" class=\"dataframe\">\n",
       "  <thead>\n",
       "    <tr style=\"text-align: right;\">\n",
       "      <th></th>\n",
       "      <th>input_variable</th>\n",
       "      <th>coef</th>\n",
       "      <th>abs_coef</th>\n",
       "    </tr>\n",
       "  </thead>\n",
       "  <tbody>\n",
       "    <tr>\n",
       "      <th>487</th>\n",
       "      <td>garden</td>\n",
       "      <td>1991.212845</td>\n",
       "      <td>1991.212845</td>\n",
       "    </tr>\n",
       "  </tbody>\n",
       "</table>\n",
       "</div>"
      ],
      "text/plain": [
       "    input_variable         coef     abs_coef\n",
       "487         garden  1991.212845  1991.212845"
      ]
     },
     "execution_count": 51,
     "metadata": {},
     "output_type": "execute_result"
    }
   ],
   "source": [
    "coef_df[coef_df[\"input_variable\"].str.startswith(\"garden\")]"
   ]
  },
  {
   "cell_type": "code",
   "execution_count": null,
   "metadata": {},
   "outputs": [],
   "source": []
  }
 ],
 "metadata": {
  "kernelspec": {
   "display_name": "Python 3",
   "language": "python",
   "name": "python3"
  },
  "language_info": {
   "codemirror_mode": {
    "name": "ipython",
    "version": 3
   },
   "file_extension": ".py",
   "mimetype": "text/x-python",
   "name": "python",
   "nbconvert_exporter": "python",
   "pygments_lexer": "ipython3",
   "version": "3.7.6"
  }
 },
 "nbformat": 4,
 "nbformat_minor": 4
}
